{
 "cells": [
  {
   "cell_type": "markdown",
   "id": "b20b488d-fa79-44fe-8371-e3304165f008",
   "metadata": {},
   "source": [
    "## 1. Load the MNIST Digit dataset, show the size of the training and test set."
   ]
  },
  {
   "cell_type": "code",
   "execution_count": 1,
   "id": "44a30566-ae5d-4a58-a297-62ab7f8f3a99",
   "metadata": {},
   "outputs": [
    {
     "name": "stdout",
     "output_type": "stream",
     "text": [
      "Training set shape: (60000, 28, 28) (images) and (60000,) (labels)\n",
      "Test set shape: (10000, 28, 28) (images) and (10000,) (labels)\n"
     ]
    },
    {
     "data": {
      "image/png": "[encoded data removed]",
      "text/plain": [
       "<Figure size 800x400 with 9 Axes>"
      ]
     },
     "metadata": {},
     "output_type": "display_data"
    }
   ],
   "source": [
    "import numpy as np\n",
    "import matplotlib.pyplot as plt\n",
    "from keras.datasets import mnist\n",
    "\n",
    "# Load the MNIST dataset\n",
    "(X_train, y_train), (X_test, y_test) = mnist.load_data(path=\"mnist.npz\")\n",
    "\n",
    "# Print the shape of the training and testing data\n",
    "print(f\"Training set shape: {X_train.shape} (images) and {y_train.shape} (labels)\")\n",
    "print(f\"Test set shape: {X_test.shape} (images) and {y_test.shape} (labels)\")\n",
    "\n",
    "# Plot a few sample images\n",
    "plt.figure(figsize=(8, 4))\n",
    "for i in range(9):\n",
    "    plt.subplot(3, 3, i + 1)\n",
    "    plt.imshow(X_train[i], cmap='gray')\n",
    "    plt.title(f\"Label: {y_train[i]}\")\n",
    "    plt.axis('off')\n",
    "plt.show()\n"
   ]
  },
  {
   "cell_type": "code",
   "execution_count": 2,
   "id": "90610b76-2212-4f59-863f-b968ec852a8c",
   "metadata": {},
   "outputs": [],
   "source": [
    "# Flatten the images and normalize pixel values\n",
    "X_train_flat = X_train.reshape(-1, 28 * 28) / 255.0\n",
    "X_test_flat = X_test.reshape(-1, 28 * 28) / 255.0"
   ]
  },
  {
   "cell_type": "code",
   "execution_count": 3,
   "id": "9528efa3-487f-44bf-bd8d-4b843cea09ef",
   "metadata": {},
   "outputs": [
    {
     "data": {
      "text/plain": [
       "((60000, 784), (10000, 784))"
      ]
     },
     "execution_count": 3,
     "metadata": {},
     "output_type": "execute_result"
    }
   ],
   "source": [
    "X_train_flat.shape,X_test_flat.shape"
   ]
  },
  {
   "cell_type": "code",
   "execution_count": 4,
   "id": "1e337da2-1bed-4cf7-9486-78109aacc40a",
   "metadata": {},
   "outputs": [
    {
     "data": {
      "text/plain": [
       "(dtype('uint8'), dtype('uint8'))"
      ]
     },
     "execution_count": 4,
     "metadata": {},
     "output_type": "execute_result"
    }
   ],
   "source": [
    "y_train.dtype,y_test.dtype"
   ]
  },
  {
   "cell_type": "markdown",
   "id": "b149df3a-8498-4c64-8e50-c1c124470752",
   "metadata": {},
   "source": [
    "## 2. Develop a one hidden layer multi-layer perceptron model on the above training data, report the accuracy of the model."
   ]
  },
  {
   "cell_type": "markdown",
   "id": "1897de29-2f8a-40ee-a4f5-787841effe7b",
   "metadata": {},
   "source": [
    "#### Create the MLP Model: We’ll use Keras to define our one-hidden-layer MLP. Here’s a simple architecture:"
   ]
  },
  {
   "cell_type": "code",
   "execution_count": 5,
   "id": "a99ca43c-8d24-4c2c-8f06-182a1f7e887c",
   "metadata": {},
   "outputs": [
    {
     "name": "stderr",
     "output_type": "stream",
     "text": [
      "C:\\Users\\LENOVO\\anaconda3\\Lib\\site-packages\\keras\\src\\layers\\core\\dense.py:87: UserWarning: Do not pass an `input_shape`/`input_dim` argument to a layer. When using Sequential models, prefer using an `Input(shape)` object as the first layer in the model instead.\n",
      "  super().__init__(activity_regularizer=activity_regularizer, **kwargs)\n"
     ]
    }
   ],
   "source": [
    "\n",
    "from keras.models import Sequential\n",
    "from keras.layers import Dense\n",
    "\n",
    "model = Sequential()\n",
    "model.add(Dense(units=128, activation='relu', input_shape=(784,)))  # Hidden layer with 128 units\n",
    "model.add(Dense(units=10, activation='softmax'))  # Output layer (10 classes for digits 0 to 9)\n"
   ]
  },
  {
   "cell_type": "markdown",
   "id": "e4a1f7cf-eba9-4be3-98ca-a0278d379397",
   "metadata": {},
   "source": [
    "#### Compile the Model: Specify the loss function, optimizer, and evaluation metric:"
   ]
  },
  {
   "cell_type": "code",
   "execution_count": 6,
   "id": "9186f8be-107e-4fe1-a877-1cb541a68e66",
   "metadata": {},
   "outputs": [],
   "source": [
    "model.compile(loss='sparse_categorical_crossentropy', optimizer='adam', metrics=['accuracy'])\n"
   ]
  },
  {
   "cell_type": "markdown",
   "id": "2d41a9fc-b67b-4864-ad5c-512439a82977",
   "metadata": {},
   "source": [
    "#### Train the Model: Let’s train our model using the training data:"
   ]
  },
  {
   "cell_type": "code",
   "execution_count": 7,
   "id": "77eb3592-cd88-4141-a220-11576c4417f6",
   "metadata": {},
   "outputs": [
    {
     "name": "stdout",
     "output_type": "stream",
     "text": [
      "Epoch 1/10\n",
      "\u001b[1m1500/1500\u001b[0m \u001b[32m━━━━━━━━━━━━━━━━━━━━\u001b[0m\u001b[37m\u001b[0m \u001b[1m4s\u001b[0m 2ms/step - accuracy: 0.8646 - loss: 0.4716 - val_accuracy: 0.9519 - val_loss: 0.1655\n",
      "Epoch 2/10\n",
      "\u001b[1m1500/1500\u001b[0m \u001b[32m━━━━━━━━━━━━━━━━━━━━\u001b[0m\u001b[37m\u001b[0m \u001b[1m3s\u001b[0m 2ms/step - accuracy: 0.9602 - loss: 0.1363 - val_accuracy: 0.9650 - val_loss: 0.1196\n",
      "Epoch 3/10\n",
      "\u001b[1m1500/1500\u001b[0m \u001b[32m━━━━━━━━━━━━━━━━━━━━\u001b[0m\u001b[37m\u001b[0m \u001b[1m2s\u001b[0m 2ms/step - accuracy: 0.9748 - loss: 0.0886 - val_accuracy: 0.9696 - val_loss: 0.1024\n",
      "Epoch 4/10\n",
      "\u001b[1m1500/1500\u001b[0m \u001b[32m━━━━━━━━━━━━━━━━━━━━\u001b[0m\u001b[37m\u001b[0m \u001b[1m2s\u001b[0m 2ms/step - accuracy: 0.9801 - loss: 0.0656 - val_accuracy: 0.9700 - val_loss: 0.1018\n",
      "Epoch 5/10\n",
      "\u001b[1m1500/1500\u001b[0m \u001b[32m━━━━━━━━━━━━━━━━━━━━\u001b[0m\u001b[37m\u001b[0m \u001b[1m2s\u001b[0m 2ms/step - accuracy: 0.9851 - loss: 0.0492 - val_accuracy: 0.9744 - val_loss: 0.0898\n",
      "Epoch 6/10\n",
      "\u001b[1m1500/1500\u001b[0m \u001b[32m━━━━━━━━━━━━━━━━━━━━\u001b[0m\u001b[37m\u001b[0m \u001b[1m3s\u001b[0m 2ms/step - accuracy: 0.9883 - loss: 0.0383 - val_accuracy: 0.9758 - val_loss: 0.0822\n",
      "Epoch 7/10\n",
      "\u001b[1m1500/1500\u001b[0m \u001b[32m━━━━━━━━━━━━━━━━━━━━\u001b[0m\u001b[37m\u001b[0m \u001b[1m3s\u001b[0m 2ms/step - accuracy: 0.9917 - loss: 0.0297 - val_accuracy: 0.9762 - val_loss: 0.0873\n",
      "Epoch 8/10\n",
      "\u001b[1m1500/1500\u001b[0m \u001b[32m━━━━━━━━━━━━━━━━━━━━\u001b[0m\u001b[37m\u001b[0m \u001b[1m2s\u001b[0m 2ms/step - accuracy: 0.9931 - loss: 0.0238 - val_accuracy: 0.9775 - val_loss: 0.0858\n",
      "Epoch 9/10\n",
      "\u001b[1m1500/1500\u001b[0m \u001b[32m━━━━━━━━━━━━━━━━━━━━\u001b[0m\u001b[37m\u001b[0m \u001b[1m2s\u001b[0m 2ms/step - accuracy: 0.9956 - loss: 0.0173 - val_accuracy: 0.9756 - val_loss: 0.0975\n",
      "Epoch 10/10\n",
      "\u001b[1m1500/1500\u001b[0m \u001b[32m━━━━━━━━━━━━━━━━━━━━\u001b[0m\u001b[37m\u001b[0m \u001b[1m2s\u001b[0m 2ms/step - accuracy: 0.9957 - loss: 0.0154 - val_accuracy: 0.9747 - val_loss: 0.0980\n"
     ]
    },
    {
     "data": {
      "text/plain": [
       "<keras.src.callbacks.history.History at 0x1ec1fe53e90>"
      ]
     },
     "execution_count": 7,
     "metadata": {},
     "output_type": "execute_result"
    }
   ],
   "source": [
    "model.fit(X_train_flat, y_train, epochs=10, batch_size=32, validation_split=0.2)\n"
   ]
  },
  {
   "cell_type": "markdown",
   "id": "7050c059-4377-4d20-bc75-5673272068f0",
   "metadata": {},
   "source": [
    "#### Evaluate Accuracy on Test Set: Finally, let’s see how well our model performs on the test data:"
   ]
  },
  {
   "cell_type": "code",
   "execution_count": 8,
   "id": "7c73583e-e7be-4180-87ab-f98621764468",
   "metadata": {},
   "outputs": [
    {
     "name": "stdout",
     "output_type": "stream",
     "text": [
      "\u001b[1m1875/1875\u001b[0m \u001b[32m━━━━━━━━━━━━━━━━━━━━\u001b[0m\u001b[37m\u001b[0m \u001b[1m1s\u001b[0m 684us/step - accuracy: 0.9955 - loss: 0.0169\n",
      "Train accuracy: 0.9913\n"
     ]
    }
   ],
   "source": [
    "train_loss, train_accuracy = model.evaluate(X_train_flat, y_train)\n",
    "print(f\"Train accuracy: {train_accuracy:.4f}\")"
   ]
  },
  {
   "cell_type": "code",
   "execution_count": 9,
   "id": "0c8c3b32-2d34-4a1a-a406-df387617ad6d",
   "metadata": {},
   "outputs": [
    {
     "name": "stdout",
     "output_type": "stream",
     "text": [
      "\u001b[1m313/313\u001b[0m \u001b[32m━━━━━━━━━━━━━━━━━━━━\u001b[0m\u001b[37m\u001b[0m \u001b[1m0s\u001b[0m 887us/step - accuracy: 0.9740 - loss: 0.1018\n",
      "Test accuracy: 0.9774\n"
     ]
    }
   ],
   "source": [
    "test_loss, test_accuracy = model.evaluate(X_test_flat, y_test)\n",
    "print(f\"Test accuracy: {test_accuracy:.4f}\")\n"
   ]
  },
  {
   "cell_type": "markdown",
   "id": "9c6d8873-a477-4188-9d67-48732f3f2e32",
   "metadata": {},
   "source": [
    "##  3. From question 2, set the number of hidden layers of the MLP model as [2,4,6,8,10], set the hidden layer size as 100, show the accuracies on the test set."
   ]
  },
  {
   "cell_type": "code",
   "execution_count": 10,
   "id": "7abdc505-a54e-4d67-aed2-bf707783405c",
   "metadata": {
    "scrolled": true
   },
   "outputs": [
    {
     "name": "stdout",
     "output_type": "stream",
     "text": [
      "Epoch 1/10\n",
      "\u001b[1m1500/1500\u001b[0m \u001b[32m━━━━━━━━━━━━━━━━━━━━\u001b[0m\u001b[37m\u001b[0m \u001b[1m4s\u001b[0m 2ms/step - accuracy: 0.8630 - loss: 0.4755 - val_accuracy: 0.9575 - val_loss: 0.1417\n",
      "Epoch 2/10\n",
      "\u001b[1m1500/1500\u001b[0m \u001b[32m━━━━━━━━━━━━━━━━━━━━\u001b[0m\u001b[37m\u001b[0m \u001b[1m2s\u001b[0m 2ms/step - accuracy: 0.9635 - loss: 0.1208 - val_accuracy: 0.9622 - val_loss: 0.1265\n",
      "Epoch 3/10\n",
      "\u001b[1m1500/1500\u001b[0m \u001b[32m━━━━━━━━━━━━━━━━━━━━\u001b[0m\u001b[37m\u001b[0m \u001b[1m2s\u001b[0m 2ms/step - accuracy: 0.9778 - loss: 0.0727 - val_accuracy: 0.9673 - val_loss: 0.1055\n",
      "Epoch 4/10\n",
      "\u001b[1m1500/1500\u001b[0m \u001b[32m━━━━━━━━━━━━━━━━━━━━\u001b[0m\u001b[37m\u001b[0m \u001b[1m2s\u001b[0m 1ms/step - accuracy: 0.9810 - loss: 0.0592 - val_accuracy: 0.9695 - val_loss: 0.1002\n",
      "Epoch 5/10\n",
      "\u001b[1m1500/1500\u001b[0m \u001b[32m━━━━━━━━━━━━━━━━━━━━\u001b[0m\u001b[37m\u001b[0m \u001b[1m2s\u001b[0m 1ms/step - accuracy: 0.9870 - loss: 0.0423 - val_accuracy: 0.9744 - val_loss: 0.0885\n",
      "Epoch 6/10\n",
      "\u001b[1m1500/1500\u001b[0m \u001b[32m━━━━━━━━━━━━━━━━━━━━\u001b[0m\u001b[37m\u001b[0m \u001b[1m2s\u001b[0m 2ms/step - accuracy: 0.9892 - loss: 0.0343 - val_accuracy: 0.9708 - val_loss: 0.1056\n",
      "Epoch 7/10\n",
      "\u001b[1m1500/1500\u001b[0m \u001b[32m━━━━━━━━━━━━━━━━━━━━\u001b[0m\u001b[37m\u001b[0m \u001b[1m2s\u001b[0m 2ms/step - accuracy: 0.9904 - loss: 0.0299 - val_accuracy: 0.9735 - val_loss: 0.0978\n",
      "Epoch 8/10\n",
      "\u001b[1m1500/1500\u001b[0m \u001b[32m━━━━━━━━━━━━━━━━━━━━\u001b[0m\u001b[37m\u001b[0m \u001b[1m3s\u001b[0m 2ms/step - accuracy: 0.9923 - loss: 0.0228 - val_accuracy: 0.9751 - val_loss: 0.1028\n",
      "Epoch 9/10\n",
      "\u001b[1m1500/1500\u001b[0m \u001b[32m━━━━━━━━━━━━━━━━━━━━\u001b[0m\u001b[37m\u001b[0m \u001b[1m2s\u001b[0m 2ms/step - accuracy: 0.9928 - loss: 0.0206 - val_accuracy: 0.9728 - val_loss: 0.1189\n",
      "Epoch 10/10\n",
      "\u001b[1m1500/1500\u001b[0m \u001b[32m━━━━━━━━━━━━━━━━━━━━\u001b[0m\u001b[37m\u001b[0m \u001b[1m2s\u001b[0m 1ms/step - accuracy: 0.9938 - loss: 0.0174 - val_accuracy: 0.9724 - val_loss: 0.1183\n",
      "\u001b[1m1875/1875\u001b[0m \u001b[32m━━━━━━━━━━━━━━━━━━━━\u001b[0m\u001b[37m\u001b[0m \u001b[1m1s\u001b[0m 708us/step - accuracy: 0.9929 - loss: 0.0217\n",
      "Hidden Layers: 2 | Train accuracy: 0.9891\n",
      "\u001b[1m313/313\u001b[0m \u001b[32m━━━━━━━━━━━━━━━━━━━━\u001b[0m\u001b[37m\u001b[0m \u001b[1m0s\u001b[0m 855us/step - accuracy: 0.9708 - loss: 0.1275\n",
      "Hidden Layers: 2 | Test accuracy: 0.9751\n",
      "Epoch 1/10\n",
      "\u001b[1m1500/1500\u001b[0m \u001b[32m━━━━━━━━━━━━━━━━━━━━\u001b[0m\u001b[37m\u001b[0m \u001b[1m4s\u001b[0m 2ms/step - accuracy: 0.8510 - loss: 0.4834 - val_accuracy: 0.9518 - val_loss: 0.1493\n",
      "Epoch 2/10\n",
      "\u001b[1m1500/1500\u001b[0m \u001b[32m━━━━━━━━━━━━━━━━━━━━\u001b[0m\u001b[37m\u001b[0m \u001b[1m3s\u001b[0m 2ms/step - accuracy: 0.9637 - loss: 0.1162 - val_accuracy: 0.9678 - val_loss: 0.1089\n",
      "Epoch 3/10\n",
      "\u001b[1m1500/1500\u001b[0m \u001b[32m━━━━━━━━━━━━━━━━━━━━\u001b[0m\u001b[37m\u001b[0m \u001b[1m3s\u001b[0m 2ms/step - accuracy: 0.9725 - loss: 0.0861 - val_accuracy: 0.9668 - val_loss: 0.1085\n",
      "Epoch 4/10\n",
      "\u001b[1m1500/1500\u001b[0m \u001b[32m━━━━━━━━━━━━━━━━━━━━\u001b[0m\u001b[37m\u001b[0m \u001b[1m3s\u001b[0m 2ms/step - accuracy: 0.9807 - loss: 0.0637 - val_accuracy: 0.9643 - val_loss: 0.1189\n",
      "Epoch 5/10\n",
      "\u001b[1m1500/1500\u001b[0m \u001b[32m━━━━━━━━━━━━━━━━━━━━\u001b[0m\u001b[37m\u001b[0m \u001b[1m3s\u001b[0m 2ms/step - accuracy: 0.9843 - loss: 0.0528 - val_accuracy: 0.9709 - val_loss: 0.0999\n",
      "Epoch 6/10\n",
      "\u001b[1m1500/1500\u001b[0m \u001b[32m━━━━━━━━━━━━━━━━━━━━\u001b[0m\u001b[37m\u001b[0m \u001b[1m3s\u001b[0m 2ms/step - accuracy: 0.9857 - loss: 0.0445 - val_accuracy: 0.9710 - val_loss: 0.1150\n",
      "Epoch 7/10\n",
      "\u001b[1m1500/1500\u001b[0m \u001b[32m━━━━━━━━━━━━━━━━━━━━\u001b[0m\u001b[37m\u001b[0m \u001b[1m3s\u001b[0m 2ms/step - accuracy: 0.9874 - loss: 0.0398 - val_accuracy: 0.9712 - val_loss: 0.1103\n",
      "Epoch 8/10\n",
      "\u001b[1m1500/1500\u001b[0m \u001b[32m━━━━━━━━━━━━━━━━━━━━\u001b[0m\u001b[37m\u001b[0m \u001b[1m4s\u001b[0m 3ms/step - accuracy: 0.9878 - loss: 0.0362 - val_accuracy: 0.9749 - val_loss: 0.0977\n",
      "Epoch 9/10\n",
      "\u001b[1m1500/1500\u001b[0m \u001b[32m━━━━━━━━━━━━━━━━━━━━\u001b[0m\u001b[37m\u001b[0m \u001b[1m3s\u001b[0m 2ms/step - accuracy: 0.9899 - loss: 0.0318 - val_accuracy: 0.9720 - val_loss: 0.1136\n",
      "Epoch 10/10\n",
      "\u001b[1m1500/1500\u001b[0m \u001b[32m━━━━━━━━━━━━━━━━━━━━\u001b[0m\u001b[37m\u001b[0m \u001b[1m3s\u001b[0m 2ms/step - accuracy: 0.9922 - loss: 0.0249 - val_accuracy: 0.9692 - val_loss: 0.1405\n",
      "\u001b[1m1875/1875\u001b[0m \u001b[32m━━━━━━━━━━━━━━━━━━━━\u001b[0m\u001b[37m\u001b[0m \u001b[1m2s\u001b[0m 849us/step - accuracy: 0.9871 - loss: 0.0405\n",
      "Hidden Layers: 4 | Train accuracy: 0.9837\n",
      "\u001b[1m313/313\u001b[0m \u001b[32m━━━━━━━━━━━━━━━━━━━━\u001b[0m\u001b[37m\u001b[0m \u001b[1m0s\u001b[0m 755us/step - accuracy: 0.9653 - loss: 0.1429\n",
      "Hidden Layers: 4 | Test accuracy: 0.9697\n",
      "Epoch 1/10\n",
      "\u001b[1m1500/1500\u001b[0m \u001b[32m━━━━━━━━━━━━━━━━━━━━\u001b[0m\u001b[37m\u001b[0m \u001b[1m5s\u001b[0m 2ms/step - accuracy: 0.8269 - loss: 0.5350 - val_accuracy: 0.9560 - val_loss: 0.1484\n",
      "Epoch 2/10\n",
      "\u001b[1m1500/1500\u001b[0m \u001b[32m━━━━━━━━━━━━━━━━━━━━\u001b[0m\u001b[37m\u001b[0m \u001b[1m3s\u001b[0m 2ms/step - accuracy: 0.9586 - loss: 0.1346 - val_accuracy: 0.9672 - val_loss: 0.1134\n",
      "Epoch 3/10\n",
      "\u001b[1m1500/1500\u001b[0m \u001b[32m━━━━━━━━━━━━━━━━━━━━\u001b[0m\u001b[37m\u001b[0m \u001b[1m3s\u001b[0m 2ms/step - accuracy: 0.9698 - loss: 0.1025 - val_accuracy: 0.9610 - val_loss: 0.1423\n",
      "Epoch 4/10\n",
      "\u001b[1m1500/1500\u001b[0m \u001b[32m━━━━━━━━━━━━━━━━━━━━\u001b[0m\u001b[37m\u001b[0m \u001b[1m3s\u001b[0m 2ms/step - accuracy: 0.9745 - loss: 0.0840 - val_accuracy: 0.9688 - val_loss: 0.1162\n",
      "Epoch 5/10\n",
      "\u001b[1m1500/1500\u001b[0m \u001b[32m━━━━━━━━━━━━━━━━━━━━\u001b[0m\u001b[37m\u001b[0m \u001b[1m3s\u001b[0m 2ms/step - accuracy: 0.9800 - loss: 0.0682 - val_accuracy: 0.9699 - val_loss: 0.1141\n",
      "Epoch 6/10\n",
      "\u001b[1m1500/1500\u001b[0m \u001b[32m━━━━━━━━━━━━━━━━━━━━\u001b[0m\u001b[37m\u001b[0m \u001b[1m3s\u001b[0m 2ms/step - accuracy: 0.9817 - loss: 0.0613 - val_accuracy: 0.9734 - val_loss: 0.1043\n",
      "Epoch 7/10\n",
      "\u001b[1m1500/1500\u001b[0m \u001b[32m━━━━━━━━━━━━━━━━━━━━\u001b[0m\u001b[37m\u001b[0m \u001b[1m3s\u001b[0m 2ms/step - accuracy: 0.9852 - loss: 0.0513 - val_accuracy: 0.9732 - val_loss: 0.1131\n",
      "Epoch 8/10\n",
      "\u001b[1m1500/1500\u001b[0m \u001b[32m━━━━━━━━━━━━━━━━━━━━\u001b[0m\u001b[37m\u001b[0m \u001b[1m3s\u001b[0m 2ms/step - accuracy: 0.9873 - loss: 0.0451 - val_accuracy: 0.9745 - val_loss: 0.1064\n",
      "Epoch 9/10\n",
      "\u001b[1m1500/1500\u001b[0m \u001b[32m━━━━━━━━━━━━━━━━━━━━\u001b[0m\u001b[37m\u001b[0m \u001b[1m3s\u001b[0m 2ms/step - accuracy: 0.9886 - loss: 0.0366 - val_accuracy: 0.9765 - val_loss: 0.1036\n",
      "Epoch 10/10\n",
      "\u001b[1m1500/1500\u001b[0m \u001b[32m━━━━━━━━━━━━━━━━━━━━\u001b[0m\u001b[37m\u001b[0m \u001b[1m3s\u001b[0m 2ms/step - accuracy: 0.9899 - loss: 0.0353 - val_accuracy: 0.9762 - val_loss: 0.1094\n",
      "\u001b[1m1875/1875\u001b[0m \u001b[32m━━━━━━━━━━━━━━━━━━━━\u001b[0m\u001b[37m\u001b[0m \u001b[1m2s\u001b[0m 807us/step - accuracy: 0.9938 - loss: 0.0208\n",
      "Hidden Layers: 6 | Train accuracy: 0.9906\n",
      "\u001b[1m313/313\u001b[0m \u001b[32m━━━━━━━━━━━━━━━━━━━━\u001b[0m\u001b[37m\u001b[0m \u001b[1m0s\u001b[0m 803us/step - accuracy: 0.9745 - loss: 0.1173\n",
      "Hidden Layers: 6 | Test accuracy: 0.9774\n",
      "Epoch 1/10\n",
      "\u001b[1m1500/1500\u001b[0m \u001b[32m━━━━━━━━━━━━━━━━━━━━\u001b[0m\u001b[37m\u001b[0m \u001b[1m6s\u001b[0m 2ms/step - accuracy: 0.8014 - loss: 0.6031 - val_accuracy: 0.9421 - val_loss: 0.2072\n",
      "Epoch 2/10\n",
      "\u001b[1m1500/1500\u001b[0m \u001b[32m━━━━━━━━━━━━━━━━━━━━\u001b[0m\u001b[37m\u001b[0m \u001b[1m4s\u001b[0m 2ms/step - accuracy: 0.9532 - loss: 0.1626 - val_accuracy: 0.9458 - val_loss: 0.1967\n",
      "Epoch 3/10\n",
      "\u001b[1m1500/1500\u001b[0m \u001b[32m━━━━━━━━━━━━━━━━━━━━\u001b[0m\u001b[37m\u001b[0m \u001b[1m3s\u001b[0m 2ms/step - accuracy: 0.9666 - loss: 0.1209 - val_accuracy: 0.9617 - val_loss: 0.1405\n",
      "Epoch 4/10\n",
      "\u001b[1m1500/1500\u001b[0m \u001b[32m━━━━━━━━━━━━━━━━━━━━\u001b[0m\u001b[37m\u001b[0m \u001b[1m3s\u001b[0m 2ms/step - accuracy: 0.9714 - loss: 0.0976 - val_accuracy: 0.9700 - val_loss: 0.1116\n",
      "Epoch 5/10\n",
      "\u001b[1m1500/1500\u001b[0m \u001b[32m━━━━━━━━━━━━━━━━━━━━\u001b[0m\u001b[37m\u001b[0m \u001b[1m3s\u001b[0m 2ms/step - accuracy: 0.9766 - loss: 0.0832 - val_accuracy: 0.9698 - val_loss: 0.1154\n",
      "Epoch 6/10\n",
      "\u001b[1m1500/1500\u001b[0m \u001b[32m━━━━━━━━━━━━━━━━━━━━\u001b[0m\u001b[37m\u001b[0m \u001b[1m4s\u001b[0m 3ms/step - accuracy: 0.9815 - loss: 0.0679 - val_accuracy: 0.9658 - val_loss: 0.1217\n",
      "Epoch 7/10\n",
      "\u001b[1m1500/1500\u001b[0m \u001b[32m━━━━━━━━━━━━━━━━━━━━\u001b[0m\u001b[37m\u001b[0m \u001b[1m3s\u001b[0m 2ms/step - accuracy: 0.9831 - loss: 0.0617 - val_accuracy: 0.9714 - val_loss: 0.1108\n",
      "Epoch 8/10\n",
      "\u001b[1m1500/1500\u001b[0m \u001b[32m━━━━━━━━━━━━━━━━━━━━\u001b[0m\u001b[37m\u001b[0m \u001b[1m3s\u001b[0m 2ms/step - accuracy: 0.9847 - loss: 0.0548 - val_accuracy: 0.9678 - val_loss: 0.1303\n",
      "Epoch 9/10\n",
      "\u001b[1m1500/1500\u001b[0m \u001b[32m━━━━━━━━━━━━━━━━━━━━\u001b[0m\u001b[37m\u001b[0m \u001b[1m3s\u001b[0m 2ms/step - accuracy: 0.9864 - loss: 0.0473 - val_accuracy: 0.9744 - val_loss: 0.1075\n",
      "Epoch 10/10\n",
      "\u001b[1m1500/1500\u001b[0m \u001b[32m━━━━━━━━━━━━━━━━━━━━\u001b[0m\u001b[37m\u001b[0m \u001b[1m4s\u001b[0m 3ms/step - accuracy: 0.9879 - loss: 0.0442 - val_accuracy: 0.9740 - val_loss: 0.1165\n",
      "\u001b[1m1875/1875\u001b[0m \u001b[32m━━━━━━━━━━━━━━━━━━━━\u001b[0m\u001b[37m\u001b[0m \u001b[1m2s\u001b[0m 1ms/step - accuracy: 0.9917 - loss: 0.0297\n",
      "Hidden Layers: 8 | Train accuracy: 0.9886\n",
      "\u001b[1m313/313\u001b[0m \u001b[32m━━━━━━━━━━━━━━━━━━━━\u001b[0m\u001b[37m\u001b[0m \u001b[1m1s\u001b[0m 1ms/step - accuracy: 0.9728 - loss: 0.1225\n",
      "Hidden Layers: 8 | Test accuracy: 0.9781\n",
      "Epoch 1/10\n",
      "\u001b[1m1500/1500\u001b[0m \u001b[32m━━━━━━━━━━━━━━━━━━━━\u001b[0m\u001b[37m\u001b[0m \u001b[1m7s\u001b[0m 3ms/step - accuracy: 0.7821 - loss: 0.6442 - val_accuracy: 0.9456 - val_loss: 0.1933\n",
      "Epoch 2/10\n",
      "\u001b[1m1500/1500\u001b[0m \u001b[32m━━━━━━━━━━━━━━━━━━━━\u001b[0m\u001b[37m\u001b[0m \u001b[1m4s\u001b[0m 2ms/step - accuracy: 0.9549 - loss: 0.1680 - val_accuracy: 0.9595 - val_loss: 0.1642\n",
      "Epoch 3/10\n",
      "\u001b[1m1500/1500\u001b[0m \u001b[32m━━━━━━━━━━━━━━━━━━━━\u001b[0m\u001b[37m\u001b[0m \u001b[1m4s\u001b[0m 3ms/step - accuracy: 0.9661 - loss: 0.1294 - val_accuracy: 0.9637 - val_loss: 0.1385\n",
      "Epoch 4/10\n",
      "\u001b[1m1500/1500\u001b[0m \u001b[32m━━━━━━━━━━━━━━━━━━━━\u001b[0m\u001b[37m\u001b[0m \u001b[1m4s\u001b[0m 3ms/step - accuracy: 0.9722 - loss: 0.1027 - val_accuracy: 0.9603 - val_loss: 0.1456\n",
      "Epoch 5/10\n",
      "\u001b[1m1500/1500\u001b[0m \u001b[32m━━━━━━━━━━━━━━━━━━━━\u001b[0m\u001b[37m\u001b[0m \u001b[1m4s\u001b[0m 2ms/step - accuracy: 0.9766 - loss: 0.0878 - val_accuracy: 0.9672 - val_loss: 0.1474\n",
      "Epoch 6/10\n",
      "\u001b[1m1500/1500\u001b[0m \u001b[32m━━━━━━━━━━━━━━━━━━━━\u001b[0m\u001b[37m\u001b[0m \u001b[1m4s\u001b[0m 3ms/step - accuracy: 0.9785 - loss: 0.0807 - val_accuracy: 0.9688 - val_loss: 0.1180\n",
      "Epoch 7/10\n",
      "\u001b[1m1500/1500\u001b[0m \u001b[32m━━━━━━━━━━━━━━━━━━━━\u001b[0m\u001b[37m\u001b[0m \u001b[1m5s\u001b[0m 3ms/step - accuracy: 0.9826 - loss: 0.0634 - val_accuracy: 0.9707 - val_loss: 0.1444\n",
      "Epoch 8/10\n",
      "\u001b[1m1500/1500\u001b[0m \u001b[32m━━━━━━━━━━━━━━━━━━━━\u001b[0m\u001b[37m\u001b[0m \u001b[1m4s\u001b[0m 3ms/step - accuracy: 0.9827 - loss: 0.0665 - val_accuracy: 0.9656 - val_loss: 0.1372\n",
      "Epoch 9/10\n",
      "\u001b[1m1500/1500\u001b[0m \u001b[32m━━━━━━━━━━━━━━━━━━━━\u001b[0m\u001b[37m\u001b[0m \u001b[1m4s\u001b[0m 2ms/step - accuracy: 0.9858 - loss: 0.0553 - val_accuracy: 0.9647 - val_loss: 0.1735\n",
      "Epoch 10/10\n",
      "\u001b[1m1500/1500\u001b[0m \u001b[32m━━━━━━━━━━━━━━━━━━━━\u001b[0m\u001b[37m\u001b[0m \u001b[1m4s\u001b[0m 2ms/step - accuracy: 0.9844 - loss: 0.0576 - val_accuracy: 0.9597 - val_loss: 0.1536\n",
      "\u001b[1m1875/1875\u001b[0m \u001b[32m━━━━━━━━━━━━━━━━━━━━\u001b[0m\u001b[37m\u001b[0m \u001b[1m2s\u001b[0m 1ms/step - accuracy: 0.9749 - loss: 0.0778\n",
      "Hidden Layers: 10 | Train accuracy: 0.9722\n",
      "\u001b[1m313/313\u001b[0m \u001b[32m━━━━━━━━━━━━━━━━━━━━\u001b[0m\u001b[37m\u001b[0m \u001b[1m1s\u001b[0m 1ms/step - accuracy: 0.9539 - loss: 0.1754\n",
      "Hidden Layers: 10 | Test accuracy: 0.9589\n"
     ]
    }
   ],
   "source": [
    "# Define a function to create an MLP model\n",
    "def create_mlp(hidden_layers):\n",
    "    model = Sequential()\n",
    "    model.add(Dense(units=100, activation='relu', input_shape=(784,)))  # First hidden layer\n",
    "    for _ in range(hidden_layers - 1):\n",
    "        model.add(Dense(units=100, activation='relu'))  # Additional hidden layers\n",
    "    model.add(Dense(units=10, activation='softmax'))  # Output layer (10 classes)\n",
    "    return model\n",
    "\n",
    "# Evaluate models with different numbers of hidden layers\n",
    "hidden_layer_sizes = [2, 4, 6, 8, 10]\n",
    "for num_layers in hidden_layer_sizes:\n",
    "    mlp_model = create_mlp(hidden_layers=num_layers)\n",
    "    mlp_model.compile(loss='sparse_categorical_crossentropy', optimizer='adam', metrics=['accuracy'])\n",
    "    mlp_model.fit(X_train_flat, y_train, epochs=10, batch_size=32, validation_split=0.2)\n",
    "    train_loss, train_accuracy = mlp_model.evaluate(X_train_flat, y_train)\n",
    "    print(f\"Hidden Layers: {num_layers} | Train accuracy: {train_accuracy:.4f}\")\n",
    "    test_loss, test_accuracy = mlp_model.evaluate(X_test_flat, y_test)\n",
    "    print(f\"Hidden Layers: {num_layers} | Test accuracy: {test_accuracy:.4f}\")"
   ]
  },
  {
   "cell_type": "code",
   "execution_count": null,
   "id": "56d49dc5-78b7-488b-9f00-22f9871e3c90",
   "metadata": {},
   "outputs": [],
   "source": []
  },
  {
   "cell_type": "markdown",
   "id": "f79df6ba-469a-47ba-858e-5bcb88e5cd9b",
   "metadata": {},
   "source": [
    "## 4. From question 2, for the hidden layer set the hidden layer size as [50, 100, 150, 200], show the accuracies on the test set. "
   ]
  },
  {
   "cell_type": "code",
   "execution_count": 11,
   "id": "1cabc9a0-7e8c-429e-aacc-bf60ff3a096b",
   "metadata": {},
   "outputs": [
    {
     "name": "stdout",
     "output_type": "stream",
     "text": [
      "Epoch 1/10\n",
      "\u001b[1m1500/1500\u001b[0m \u001b[32m━━━━━━━━━━━━━━━━━━━━\u001b[0m\u001b[37m\u001b[0m \u001b[1m3s\u001b[0m 1ms/step - accuracy: 0.8348 - loss: 0.5707 - val_accuracy: 0.9453 - val_loss: 0.1968\n",
      "Epoch 2/10\n",
      "\u001b[1m1500/1500\u001b[0m \u001b[32m━━━━━━━━━━━━━━━━━━━━\u001b[0m\u001b[37m\u001b[0m \u001b[1m2s\u001b[0m 1ms/step - accuracy: 0.9429 - loss: 0.1917 - val_accuracy: 0.9554 - val_loss: 0.1588\n",
      "Epoch 3/10\n",
      "\u001b[1m1500/1500\u001b[0m \u001b[32m━━━━━━━━━━━━━━━━━━━━\u001b[0m\u001b[37m\u001b[0m \u001b[1m2s\u001b[0m 1ms/step - accuracy: 0.9588 - loss: 0.1376 - val_accuracy: 0.9613 - val_loss: 0.1356\n",
      "Epoch 4/10\n",
      "\u001b[1m1500/1500\u001b[0m \u001b[32m━━━━━━━━━━━━━━━━━━━━\u001b[0m\u001b[37m\u001b[0m \u001b[1m2s\u001b[0m 1ms/step - accuracy: 0.9682 - loss: 0.1110 - val_accuracy: 0.9629 - val_loss: 0.1303\n",
      "Epoch 5/10\n",
      "\u001b[1m1500/1500\u001b[0m \u001b[32m━━━━━━━━━━━━━━━━━━━━\u001b[0m\u001b[37m\u001b[0m \u001b[1m2s\u001b[0m 1ms/step - accuracy: 0.9732 - loss: 0.0893 - val_accuracy: 0.9647 - val_loss: 0.1223\n",
      "Epoch 6/10\n",
      "\u001b[1m1500/1500\u001b[0m \u001b[32m━━━━━━━━━━━━━━━━━━━━\u001b[0m\u001b[37m\u001b[0m \u001b[1m2s\u001b[0m 1ms/step - accuracy: 0.9768 - loss: 0.0768 - val_accuracy: 0.9668 - val_loss: 0.1127\n",
      "Epoch 7/10\n",
      "\u001b[1m1500/1500\u001b[0m \u001b[32m━━━━━━━━━━━━━━━━━━━━\u001b[0m\u001b[37m\u001b[0m \u001b[1m2s\u001b[0m 1ms/step - accuracy: 0.9809 - loss: 0.0658 - val_accuracy: 0.9672 - val_loss: 0.1116\n",
      "Epoch 8/10\n",
      "\u001b[1m1500/1500\u001b[0m \u001b[32m━━━━━━━━━━━━━━━━━━━━\u001b[0m\u001b[37m\u001b[0m \u001b[1m2s\u001b[0m 1ms/step - accuracy: 0.9822 - loss: 0.0580 - val_accuracy: 0.9698 - val_loss: 0.1121\n",
      "Epoch 9/10\n",
      "\u001b[1m1500/1500\u001b[0m \u001b[32m━━━━━━━━━━━━━━━━━━━━\u001b[0m\u001b[37m\u001b[0m \u001b[1m2s\u001b[0m 1ms/step - accuracy: 0.9854 - loss: 0.0500 - val_accuracy: 0.9658 - val_loss: 0.1195\n",
      "Epoch 10/10\n",
      "\u001b[1m1500/1500\u001b[0m \u001b[32m━━━━━━━━━━━━━━━━━━━━\u001b[0m\u001b[37m\u001b[0m \u001b[1m2s\u001b[0m 1ms/step - accuracy: 0.9860 - loss: 0.0459 - val_accuracy: 0.9673 - val_loss: 0.1172\n",
      "\u001b[1m1875/1875\u001b[0m \u001b[32m━━━━━━━━━━━━━━━━━━━━\u001b[0m\u001b[37m\u001b[0m \u001b[1m1s\u001b[0m 688us/step - accuracy: 0.9882 - loss: 0.0408\n",
      "Hidden Layer Size: 50 | Train accuracy: 0.9837\n",
      "\u001b[1m313/313\u001b[0m \u001b[32m━━━━━━━━━━━━━━━━━━━━\u001b[0m\u001b[37m\u001b[0m \u001b[1m0s\u001b[0m 678us/step - accuracy: 0.9654 - loss: 0.1159\n",
      "Hidden Layer Size: 50 | Test accuracy: 0.9685\n",
      "Epoch 1/10\n",
      "\u001b[1m1500/1500\u001b[0m \u001b[32m━━━━━━━━━━━━━━━━━━━━\u001b[0m\u001b[37m\u001b[0m \u001b[1m3s\u001b[0m 1ms/step - accuracy: 0.8581 - loss: 0.4984 - val_accuracy: 0.9531 - val_loss: 0.1652\n",
      "Epoch 2/10\n",
      "\u001b[1m1500/1500\u001b[0m \u001b[32m━━━━━━━━━━━━━━━━━━━━\u001b[0m\u001b[37m\u001b[0m \u001b[1m2s\u001b[0m 1ms/step - accuracy: 0.9574 - loss: 0.1456 - val_accuracy: 0.9632 - val_loss: 0.1255\n",
      "Epoch 3/10\n",
      "\u001b[1m1500/1500\u001b[0m \u001b[32m━━━━━━━━━━━━━━━━━━━━\u001b[0m\u001b[37m\u001b[0m \u001b[1m2s\u001b[0m 1ms/step - accuracy: 0.9708 - loss: 0.0990 - val_accuracy: 0.9673 - val_loss: 0.1103\n",
      "Epoch 4/10\n",
      "\u001b[1m1500/1500\u001b[0m \u001b[32m━━━━━━━━━━━━━━━━━━━━\u001b[0m\u001b[37m\u001b[0m \u001b[1m2s\u001b[0m 1ms/step - accuracy: 0.9789 - loss: 0.0706 - val_accuracy: 0.9709 - val_loss: 0.0971\n",
      "Epoch 5/10\n",
      "\u001b[1m1500/1500\u001b[0m \u001b[32m━━━━━━━━━━━━━━━━━━━━\u001b[0m\u001b[37m\u001b[0m \u001b[1m2s\u001b[0m 2ms/step - accuracy: 0.9844 - loss: 0.0539 - val_accuracy: 0.9707 - val_loss: 0.0961\n",
      "Epoch 6/10\n",
      "\u001b[1m1500/1500\u001b[0m \u001b[32m━━━━━━━━━━━━━━━━━━━━\u001b[0m\u001b[37m\u001b[0m \u001b[1m2s\u001b[0m 1ms/step - accuracy: 0.9866 - loss: 0.0442 - val_accuracy: 0.9740 - val_loss: 0.0881\n",
      "Epoch 7/10\n",
      "\u001b[1m1500/1500\u001b[0m \u001b[32m━━━━━━━━━━━━━━━━━━━━\u001b[0m\u001b[37m\u001b[0m \u001b[1m2s\u001b[0m 1ms/step - accuracy: 0.9907 - loss: 0.0333 - val_accuracy: 0.9742 - val_loss: 0.0915\n",
      "Epoch 8/10\n",
      "\u001b[1m1500/1500\u001b[0m \u001b[32m━━━━━━━━━━━━━━━━━━━━\u001b[0m\u001b[37m\u001b[0m \u001b[1m2s\u001b[0m 1ms/step - accuracy: 0.9920 - loss: 0.0278 - val_accuracy: 0.9735 - val_loss: 0.0970\n",
      "Epoch 9/10\n",
      "\u001b[1m1500/1500\u001b[0m \u001b[32m━━━━━━━━━━━━━━━━━━━━\u001b[0m\u001b[37m\u001b[0m \u001b[1m2s\u001b[0m 1ms/step - accuracy: 0.9930 - loss: 0.0250 - val_accuracy: 0.9743 - val_loss: 0.0934\n",
      "Epoch 10/10\n",
      "\u001b[1m1500/1500\u001b[0m \u001b[32m━━━━━━━━━━━━━━━━━━━━\u001b[0m\u001b[37m\u001b[0m \u001b[1m2s\u001b[0m 1ms/step - accuracy: 0.9951 - loss: 0.0176 - val_accuracy: 0.9729 - val_loss: 0.0984\n",
      "\u001b[1m1875/1875\u001b[0m \u001b[32m━━━━━━━━━━━━━━━━━━━━\u001b[0m\u001b[37m\u001b[0m \u001b[1m1s\u001b[0m 750us/step - accuracy: 0.9943 - loss: 0.0182\n",
      "Hidden Layer Size: 100 | Train accuracy: 0.9905\n",
      "\u001b[1m313/313\u001b[0m \u001b[32m━━━━━━━━━━━━━━━━━━━━\u001b[0m\u001b[37m\u001b[0m \u001b[1m0s\u001b[0m 744us/step - accuracy: 0.9707 - loss: 0.1024\n",
      "Hidden Layer Size: 100 | Test accuracy: 0.9759\n",
      "Epoch 1/10\n",
      "\u001b[1m1500/1500\u001b[0m \u001b[32m━━━━━━━━━━━━━━━━━━━━\u001b[0m\u001b[37m\u001b[0m \u001b[1m4s\u001b[0m 2ms/step - accuracy: 0.8692 - loss: 0.4629 - val_accuracy: 0.9578 - val_loss: 0.1476\n",
      "Epoch 2/10\n",
      "\u001b[1m1500/1500\u001b[0m \u001b[32m━━━━━━━━━━━━━━━━━━━━\u001b[0m\u001b[37m\u001b[0m \u001b[1m3s\u001b[0m 2ms/step - accuracy: 0.9638 - loss: 0.1280 - val_accuracy: 0.9689 - val_loss: 0.1063\n",
      "Epoch 3/10\n",
      "\u001b[1m1500/1500\u001b[0m \u001b[32m━━━━━━━━━━━━━━━━━━━━\u001b[0m\u001b[37m\u001b[0m \u001b[1m3s\u001b[0m 2ms/step - accuracy: 0.9757 - loss: 0.0800 - val_accuracy: 0.9709 - val_loss: 0.0956\n",
      "Epoch 4/10\n",
      "\u001b[1m1500/1500\u001b[0m \u001b[32m━━━━━━━━━━━━━━━━━━━━\u001b[0m\u001b[37m\u001b[0m \u001b[1m3s\u001b[0m 2ms/step - accuracy: 0.9817 - loss: 0.0621 - val_accuracy: 0.9732 - val_loss: 0.0878\n",
      "Epoch 5/10\n",
      "\u001b[1m1500/1500\u001b[0m \u001b[32m━━━━━━━━━━━━━━━━━━━━\u001b[0m\u001b[37m\u001b[0m \u001b[1m3s\u001b[0m 2ms/step - accuracy: 0.9860 - loss: 0.0440 - val_accuracy: 0.9737 - val_loss: 0.0900\n",
      "Epoch 6/10\n",
      "\u001b[1m1500/1500\u001b[0m \u001b[32m━━━━━━━━━━━━━━━━━━━━\u001b[0m\u001b[37m\u001b[0m \u001b[1m3s\u001b[0m 2ms/step - accuracy: 0.9904 - loss: 0.0327 - val_accuracy: 0.9725 - val_loss: 0.0956\n",
      "Epoch 7/10\n",
      "\u001b[1m1500/1500\u001b[0m \u001b[32m━━━━━━━━━━━━━━━━━━━━\u001b[0m\u001b[37m\u001b[0m \u001b[1m3s\u001b[0m 2ms/step - accuracy: 0.9930 - loss: 0.0240 - val_accuracy: 0.9757 - val_loss: 0.0835\n",
      "Epoch 8/10\n",
      "\u001b[1m1500/1500\u001b[0m \u001b[32m━━━━━━━━━━━━━━━━━━━━\u001b[0m\u001b[37m\u001b[0m \u001b[1m3s\u001b[0m 2ms/step - accuracy: 0.9940 - loss: 0.0209 - val_accuracy: 0.9747 - val_loss: 0.0962\n",
      "Epoch 9/10\n",
      "\u001b[1m1500/1500\u001b[0m \u001b[32m━━━━━━━━━━━━━━━━━━━━\u001b[0m\u001b[37m\u001b[0m \u001b[1m3s\u001b[0m 2ms/step - accuracy: 0.9956 - loss: 0.0155 - val_accuracy: 0.9722 - val_loss: 0.1027\n",
      "Epoch 10/10\n",
      "\u001b[1m1500/1500\u001b[0m \u001b[32m━━━━━━━━━━━━━━━━━━━━\u001b[0m\u001b[37m\u001b[0m \u001b[1m3s\u001b[0m 2ms/step - accuracy: 0.9961 - loss: 0.0135 - val_accuracy: 0.9762 - val_loss: 0.0937\n",
      "\u001b[1m1875/1875\u001b[0m \u001b[32m━━━━━━━━━━━━━━━━━━━━\u001b[0m\u001b[37m\u001b[0m \u001b[1m1s\u001b[0m 789us/step - accuracy: 0.9968 - loss: 0.0118\n",
      "Hidden Layer Size: 150 | Train accuracy: 0.9931\n",
      "\u001b[1m313/313\u001b[0m \u001b[32m━━━━━━━━━━━━━━━━━━━━\u001b[0m\u001b[37m\u001b[0m \u001b[1m0s\u001b[0m 892us/step - accuracy: 0.9772 - loss: 0.0893\n",
      "Hidden Layer Size: 150 | Test accuracy: 0.9795\n",
      "Epoch 1/10\n",
      "\u001b[1m1500/1500\u001b[0m \u001b[32m━━━━━━━━━━━━━━━━━━━━\u001b[0m\u001b[37m\u001b[0m \u001b[1m4s\u001b[0m 2ms/step - accuracy: 0.8760 - loss: 0.4330 - val_accuracy: 0.9619 - val_loss: 0.1325\n",
      "Epoch 2/10\n",
      "\u001b[1m1500/1500\u001b[0m \u001b[32m━━━━━━━━━━━━━━━━━━━━\u001b[0m\u001b[37m\u001b[0m \u001b[1m3s\u001b[0m 2ms/step - accuracy: 0.9653 - loss: 0.1161 - val_accuracy: 0.9681 - val_loss: 0.1051\n",
      "Epoch 3/10\n",
      "\u001b[1m1500/1500\u001b[0m \u001b[32m━━━━━━━━━━━━━━━━━━━━\u001b[0m\u001b[37m\u001b[0m \u001b[1m3s\u001b[0m 2ms/step - accuracy: 0.9780 - loss: 0.0728 - val_accuracy: 0.9719 - val_loss: 0.0970\n",
      "Epoch 4/10\n",
      "\u001b[1m1500/1500\u001b[0m \u001b[32m━━━━━━━━━━━━━━━━━━━━\u001b[0m\u001b[37m\u001b[0m \u001b[1m3s\u001b[0m 2ms/step - accuracy: 0.9855 - loss: 0.0499 - val_accuracy: 0.9722 - val_loss: 0.0930\n",
      "Epoch 5/10\n",
      "\u001b[1m1500/1500\u001b[0m \u001b[32m━━━━━━━━━━━━━━━━━━━━\u001b[0m\u001b[37m\u001b[0m \u001b[1m3s\u001b[0m 2ms/step - accuracy: 0.9882 - loss: 0.0391 - val_accuracy: 0.9768 - val_loss: 0.0840\n",
      "Epoch 6/10\n",
      "\u001b[1m1500/1500\u001b[0m \u001b[32m━━━━━━━━━━━━━━━━━━━━\u001b[0m\u001b[37m\u001b[0m \u001b[1m4s\u001b[0m 2ms/step - accuracy: 0.9925 - loss: 0.0268 - val_accuracy: 0.9734 - val_loss: 0.0940\n",
      "Epoch 7/10\n",
      "\u001b[1m1500/1500\u001b[0m \u001b[32m━━━━━━━━━━━━━━━━━━━━\u001b[0m\u001b[37m\u001b[0m \u001b[1m3s\u001b[0m 2ms/step - accuracy: 0.9939 - loss: 0.0205 - val_accuracy: 0.9730 - val_loss: 0.0959\n",
      "Epoch 8/10\n",
      "\u001b[1m1500/1500\u001b[0m \u001b[32m━━━━━━━━━━━━━━━━━━━━\u001b[0m\u001b[37m\u001b[0m \u001b[1m3s\u001b[0m 2ms/step - accuracy: 0.9953 - loss: 0.0160 - val_accuracy: 0.9759 - val_loss: 0.0886\n",
      "Epoch 9/10\n",
      "\u001b[1m1500/1500\u001b[0m \u001b[32m━━━━━━━━━━━━━━━━━━━━\u001b[0m\u001b[37m\u001b[0m \u001b[1m3s\u001b[0m 2ms/step - accuracy: 0.9961 - loss: 0.0137 - val_accuracy: 0.9747 - val_loss: 0.1012\n",
      "Epoch 10/10\n",
      "\u001b[1m1500/1500\u001b[0m \u001b[32m━━━━━━━━━━━━━━━━━━━━\u001b[0m\u001b[37m\u001b[0m \u001b[1m3s\u001b[0m 2ms/step - accuracy: 0.9968 - loss: 0.0107 - val_accuracy: 0.9763 - val_loss: 0.0954\n",
      "\u001b[1m1875/1875\u001b[0m \u001b[32m━━━━━━━━━━━━━━━━━━━━\u001b[0m\u001b[37m\u001b[0m \u001b[1m2s\u001b[0m 1ms/step - accuracy: 0.9977 - loss: 0.0094\n",
      "Hidden Layer Size: 200 | Train accuracy: 0.9937\n",
      "\u001b[1m313/313\u001b[0m \u001b[32m━━━━━━━━━━━━━━━━━━━━\u001b[0m\u001b[37m\u001b[0m \u001b[1m0s\u001b[0m 975us/step - accuracy: 0.9756 - loss: 0.0901\n",
      "Hidden Layer Size: 200 | Test accuracy: 0.9793\n"
     ]
    }
   ],
   "source": [
    "# Define a function to create an MLP model with varying hidden layer size\n",
    "def create_mlp(hidden_layer_size):\n",
    "    model = Sequential()\n",
    "    model.add(Dense(units=hidden_layer_size, activation='relu', input_shape=(784,)))  # Hidden layer\n",
    "    model.add(Dense(units=10, activation='softmax'))  # Output layer (10 classes)\n",
    "    return model\n",
    "\n",
    "# Evaluate models with different hidden layer sizes\n",
    "hidden_layer_sizes = [50, 100, 150, 200]\n",
    "for size in hidden_layer_sizes:\n",
    "    mlp_model = create_mlp(hidden_layer_size=size)\n",
    "    mlp_model.compile(loss='sparse_categorical_crossentropy', optimizer='adam', metrics=['accuracy'])\n",
    "    mlp_model.fit(X_train_flat, y_train, epochs=10, batch_size=32, validation_split=0.2)\n",
    "    train_loss, train_accuracy = mlp_model.evaluate(X_train_flat, y_train)\n",
    "    print(f\"Hidden Layer Size: {size} | Train accuracy: {train_accuracy:.4f}\")\n",
    "    test_loss, test_accuracy = mlp_model.evaluate(X_test_flat, y_test)\n",
    "    print(f\"Hidden Layer Size: {size} | Test accuracy: {test_accuracy:.4f}\")"
   ]
  },
  {
   "cell_type": "code",
   "execution_count": null,
   "id": "1f1380ad-eb2c-4cb4-af9d-4dceae538ffd",
   "metadata": {},
   "outputs": [],
   "source": []
  },
  {
   "cell_type": "markdown",
   "id": "4ce6be89-6e6b-4478-a829-79e4ad41102a",
   "metadata": {},
   "source": [
    "## 5. Based on question 3 and 4, explain the key findings."
   ]
  },
  {
   "cell_type": "code",
   "execution_count": 14,
   "id": "cb3a8bdd-da42-47a1-b358-bf4fdfca8ded",
   "metadata": {},
   "outputs": [],
   "source": [
    "import pandas as pd\n",
    "layers_performance = {'layers': ['layer_1','layer_2','layer_4','layer_6','layer_8','layer_10',\n",
    "                               'layer_size_50','layer_size_100','layer_size_150','layer_size_200'],\n",
    "    'Training Accuracy':['99.26','99.20','98.83','98.82','98.45','98.30','98.64','98.81','99.07','99.29'],\n",
    "    'Testing Accuracy':['97.76','97.80','97.48','97.42','96.96','97.01','97.22','97.23','97.81','97.84']}\n"
   ]
  },
  {
   "cell_type": "code",
   "execution_count": 16,
   "id": "e557481a-8142-4167-9277-6d68577a08b0",
   "metadata": {},
   "outputs": [
    {
     "data": {
      "text/html": [
       "<div>\n",
       "<style scoped>\n",
       "    .dataframe tbody tr th:only-of-type {\n",
       "        vertical-align: middle;\n",
       "    }\n",
       "\n",
       "    .dataframe tbody tr th {\n",
       "        vertical-align: top;\n",
       "    }\n",
       "\n",
       "    .dataframe thead th {\n",
       "        text-align: right;\n",
       "    }\n",
       "</style>\n",
       "<table border=\"1\" class=\"dataframe\">\n",
       "  <thead>\n",
       "    <tr style=\"text-align: right;\">\n",
       "      <th></th>\n",
       "      <th>layers</th>\n",
       "      <th>Training Accuracy</th>\n",
       "      <th>Testing Accuracy</th>\n",
       "    </tr>\n",
       "  </thead>\n",
       "  <tbody>\n",
       "    <tr>\n",
       "      <th>0</th>\n",
       "      <td>layer_1</td>\n",
       "      <td>99.26</td>\n",
       "      <td>97.76</td>\n",
       "    </tr>\n",
       "    <tr>\n",
       "      <th>1</th>\n",
       "      <td>layer_2</td>\n",
       "      <td>99.20</td>\n",
       "      <td>97.80</td>\n",
       "    </tr>\n",
       "    <tr>\n",
       "      <th>2</th>\n",
       "      <td>layer_4</td>\n",
       "      <td>98.83</td>\n",
       "      <td>97.48</td>\n",
       "    </tr>\n",
       "    <tr>\n",
       "      <th>3</th>\n",
       "      <td>layer_6</td>\n",
       "      <td>98.82</td>\n",
       "      <td>97.42</td>\n",
       "    </tr>\n",
       "    <tr>\n",
       "      <th>4</th>\n",
       "      <td>layer_8</td>\n",
       "      <td>98.45</td>\n",
       "      <td>96.96</td>\n",
       "    </tr>\n",
       "    <tr>\n",
       "      <th>5</th>\n",
       "      <td>layer_10</td>\n",
       "      <td>98.30</td>\n",
       "      <td>97.01</td>\n",
       "    </tr>\n",
       "    <tr>\n",
       "      <th>6</th>\n",
       "      <td>layer_size_50</td>\n",
       "      <td>98.64</td>\n",
       "      <td>97.22</td>\n",
       "    </tr>\n",
       "    <tr>\n",
       "      <th>7</th>\n",
       "      <td>layer_size_100</td>\n",
       "      <td>98.81</td>\n",
       "      <td>97.23</td>\n",
       "    </tr>\n",
       "    <tr>\n",
       "      <th>8</th>\n",
       "      <td>layer_size_150</td>\n",
       "      <td>99.07</td>\n",
       "      <td>97.81</td>\n",
       "    </tr>\n",
       "    <tr>\n",
       "      <th>9</th>\n",
       "      <td>layer_size_200</td>\n",
       "      <td>99.29</td>\n",
       "      <td>97.84</td>\n",
       "    </tr>\n",
       "  </tbody>\n",
       "</table>\n",
       "</div>"
      ],
      "text/plain": [
       "           layers Training Accuracy Testing Accuracy\n",
       "0         layer_1             99.26            97.76\n",
       "1         layer_2             99.20            97.80\n",
       "2         layer_4             98.83            97.48\n",
       "3         layer_6             98.82            97.42\n",
       "4         layer_8             98.45            96.96\n",
       "5        layer_10             98.30            97.01\n",
       "6   layer_size_50             98.64            97.22\n",
       "7  layer_size_100             98.81            97.23\n",
       "8  layer_size_150             99.07            97.81\n",
       "9  layer_size_200             99.29            97.84"
      ]
     },
     "execution_count": 16,
     "metadata": {},
     "output_type": "execute_result"
    }
   ],
   "source": [
    "numlayers_layersize = pd.DataFrame(layers_performance)\n",
    "numlayers_layersize"
   ]
  },
  {
   "cell_type": "raw",
   "id": "7520232c-5042-4170-97e0-2894263ac7fb",
   "metadata": {},
   "source": [
    "Varying the Number of Hidden Layers:\n",
    "As you increased the number of hidden layers (from 1 to 2, 4, 6, 8, and 10), you likely observed that the training accuracy improved. Deeper networks can capture more complex features and representations.\n",
    "However, be cautious of overfitting. With too many layers, the model might start memorizing the training data rather than generalizing well to unseen examples (like the test set).\n",
    "The test accuracy might not always increase linearly with the number of layers. There’s a sweet spot where adding more layers improves performance without overfitting.\n",
    "\n",
    "\n",
    "if you look at training accuracy in number of layers it is decreasing whereas if you look at testing accuracy it is somewhere constant like close to 97 to 98% so increasing  number of layers is not beneficial here because model has performed well in 1 and 2 layers."
   ]
  },
  {
   "cell_type": "raw",
   "id": "1f64032f-7260-422c-883e-fd176af787fc",
   "metadata": {},
   "source": [
    "varying Hidden Layer Size:\n",
    "Increasing the hidden layer size (neurons per layer) can also improve accuracy initially. Larger layers allow the model to learn more intricate patterns.\n",
    "However, very large hidden layers can lead to longer training times and potential overfitting.\n",
    "Smaller hidden layers might not capture enough complexity, resulting in underfitting.\n",
    "\n",
    "well we are increasing layer size model train accuracy and test accuracy slightly increasing together but it does not have much difference so ideally 100 size is good here our model is not looking over fit because however size increasing test accuracy also increasing. "
   ]
  },
  {
   "cell_type": "code",
   "execution_count": null,
   "id": "c6d62084-4b4d-41ca-aae3-1b0826c7b5a1",
   "metadata": {},
   "outputs": [],
   "source": []
  },
  {
   "cell_type": "code",
   "execution_count": null,
   "id": "f9251356-78ec-4202-a505-c55dd22e52b8",
   "metadata": {},
   "outputs": [],
   "source": []
  },
  {
   "cell_type": "code",
   "execution_count": null,
   "id": "d1062109-1ebc-4b2a-85af-8a07506d6e1b",
   "metadata": {},
   "outputs": [],
   "source": []
  },
  {
   "cell_type": "code",
   "execution_count": null,
   "id": "0cfe7d5d-d761-4c47-bfa4-4013ca781b26",
   "metadata": {},
   "outputs": [],
   "source": []
  },
  {
   "cell_type": "code",
   "execution_count": null,
   "id": "5f65e083-de6c-4f3c-adb6-34a390915ab7",
   "metadata": {},
   "outputs": [],
   "source": []
  }
 ],
 "metadata": {
  "kernelspec": {
   "display_name": "Python 3 (ipykernel)",
   "language": "python",
   "name": "python3"
  },
  "language_info": {
   "codemirror_mode": {
    "name": "ipython",
    "version": 3
   },
   "file_extension": ".py",
   "mimetype": "text/x-python",
   "name": "python",
   "nbconvert_exporter": "python",
   "pygments_lexer": "ipython3",
   "version": "3.11.7"
  },
  "widgets": {
   "application/vnd.jupyter.widget-state+json": {
    "state": {},
    "version_major": 2,
    "version_minor": 0
   }
  }
 },
 "nbformat": 4,
 "nbformat_minor": 5
}
